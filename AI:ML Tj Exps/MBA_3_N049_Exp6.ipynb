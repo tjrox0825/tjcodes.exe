{
  "nbformat": 4,
  "nbformat_minor": 0,
  "metadata": {
    "colab": {
      "name": "MBA_3_N049_Exp6.ipynb",
      "provenance": [],
      "collapsed_sections": []
    },
    "kernelspec": {
      "name": "python3",
      "display_name": "Python 3"
    }
  },
  "cells": [
    {
      "cell_type": "markdown",
      "metadata": {
        "id": "YCEErPympOWo",
        "colab_type": "text"
      },
      "source": [
        "Name: Tarun Tanmay\n",
        "Roll No: N049\n",
        "Class: MBATech CE , 3 Year "
      ]
    },
    {
      "cell_type": "code",
      "metadata": {
        "id": "e0N-Va-pphv4",
        "colab_type": "code",
        "colab": {}
      },
      "source": [
        "#Experiment 6\n",
        "#K nearest Neighbour\n",
        "import pandas as pd\n",
        "from math import sqrt "
      ],
      "execution_count": null,
      "outputs": []
    },
    {
      "cell_type": "code",
      "metadata": {
        "id": "5HKA1-ZAqM2H",
        "colab_type": "code",
        "colab": {
          "base_uri": "https://localhost:8080/",
          "height": 359
        },
        "outputId": "a8f9d9f4-6316-49c4-c87d-9d0198beba7d"
      },
      "source": [
        "df_test=pd.read_csv('test_knn.csv')\n",
        "df_test"
      ],
      "execution_count": null,
      "outputs": [
        {
          "output_type": "execute_result",
          "data": {
            "text/html": [
              "<div>\n",
              "<style scoped>\n",
              "    .dataframe tbody tr th:only-of-type {\n",
              "        vertical-align: middle;\n",
              "    }\n",
              "\n",
              "    .dataframe tbody tr th {\n",
              "        vertical-align: top;\n",
              "    }\n",
              "\n",
              "    .dataframe thead th {\n",
              "        text-align: right;\n",
              "    }\n",
              "</style>\n",
              "<table border=\"1\" class=\"dataframe\">\n",
              "  <thead>\n",
              "    <tr style=\"text-align: right;\">\n",
              "      <th></th>\n",
              "      <th>a</th>\n",
              "      <th>b</th>\n",
              "      <th>c</th>\n",
              "    </tr>\n",
              "  </thead>\n",
              "  <tbody>\n",
              "    <tr>\n",
              "      <th>0</th>\n",
              "      <td>2.781084</td>\n",
              "      <td>2.550537</td>\n",
              "      <td>0</td>\n",
              "    </tr>\n",
              "    <tr>\n",
              "      <th>1</th>\n",
              "      <td>1.465489</td>\n",
              "      <td>2.362125</td>\n",
              "      <td>0</td>\n",
              "    </tr>\n",
              "    <tr>\n",
              "      <th>2</th>\n",
              "      <td>3.396562</td>\n",
              "      <td>4.400294</td>\n",
              "      <td>0</td>\n",
              "    </tr>\n",
              "    <tr>\n",
              "      <th>3</th>\n",
              "      <td>1.388070</td>\n",
              "      <td>1.850220</td>\n",
              "      <td>0</td>\n",
              "    </tr>\n",
              "    <tr>\n",
              "      <th>4</th>\n",
              "      <td>3.064072</td>\n",
              "      <td>3.005306</td>\n",
              "      <td>0</td>\n",
              "    </tr>\n",
              "    <tr>\n",
              "      <th>5</th>\n",
              "      <td>7.627531</td>\n",
              "      <td>2.759262</td>\n",
              "      <td>1</td>\n",
              "    </tr>\n",
              "    <tr>\n",
              "      <th>6</th>\n",
              "      <td>5.332441</td>\n",
              "      <td>2.088627</td>\n",
              "      <td>1</td>\n",
              "    </tr>\n",
              "    <tr>\n",
              "      <th>7</th>\n",
              "      <td>6.922597</td>\n",
              "      <td>1.771064</td>\n",
              "      <td>1</td>\n",
              "    </tr>\n",
              "    <tr>\n",
              "      <th>8</th>\n",
              "      <td>8.675419</td>\n",
              "      <td>-0.242069</td>\n",
              "      <td>1</td>\n",
              "    </tr>\n",
              "    <tr>\n",
              "      <th>9</th>\n",
              "      <td>7.673756</td>\n",
              "      <td>3.508563</td>\n",
              "      <td>1</td>\n",
              "    </tr>\n",
              "  </tbody>\n",
              "</table>\n",
              "</div>"
            ],
            "text/plain": [
              "          a         b  c\n",
              "0  2.781084  2.550537  0\n",
              "1  1.465489  2.362125  0\n",
              "2  3.396562  4.400294  0\n",
              "3  1.388070  1.850220  0\n",
              "4  3.064072  3.005306  0\n",
              "5  7.627531  2.759262  1\n",
              "6  5.332441  2.088627  1\n",
              "7  6.922597  1.771064  1\n",
              "8  8.675419 -0.242069  1\n",
              "9  7.673756  3.508563  1"
            ]
          },
          "metadata": {
            "tags": []
          },
          "execution_count": 3
        }
      ]
    },
    {
      "cell_type": "code",
      "metadata": {
        "id": "VZEhfiw0qr62",
        "colab_type": "code",
        "colab": {}
      },
      "source": [
        "#Definition for Euclidean Distance between two Points:\n",
        "def euclidean_distance(row1,row2):\n",
        "  distance=0.0\n",
        "  ln=len(row1)\n",
        "  for i in range(0,ln-1):\n",
        "    temp1=(row1[i]-row2[i])**2\n",
        "    distance=distance+temp1\n",
        "  euc_distance=sqrt(distance)\n",
        "  return euc_distance"
      ],
      "execution_count": null,
      "outputs": []
    },
    {
      "cell_type": "code",
      "metadata": {
        "id": "XbZDmYOfsSQZ",
        "colab_type": "code",
        "colab": {
          "base_uri": "https://localhost:8080/",
          "height": 187
        },
        "outputId": "9269f85f-6297-448b-b0af-9feb5c5cedc5"
      },
      "source": [
        "test_data=df_test.to_numpy()\n",
        "#test_data\n",
        "row0=test_data[0]\n",
        "for row in test_data:\n",
        "  distance=euclidean_distance(row0,row)\n",
        "  print(distance)"
      ],
      "execution_count": null,
      "outputs": [
        {
          "output_type": "stream",
          "text": [
            "0.0\n",
            "1.3290173915275787\n",
            "1.9494646655653247\n",
            "1.559143938554055\n",
            "0.5356280721938492\n",
            "4.850940186986409\n",
            "2.592833759950511\n",
            "4.214227042632867\n",
            "6.522409988228339\n",
            "4.985585382449795\n"
          ],
          "name": "stdout"
        }
      ]
    },
    {
      "cell_type": "code",
      "metadata": {
        "id": "INhqLegtujta",
        "colab_type": "code",
        "colab": {}
      },
      "source": [
        "def get_neighbors(train, test_row, num_neighbors):\n",
        "  #initialising a list \n",
        "  dist=list()\n",
        "  for train_row in train:\n",
        "    edist=euclidean_distance(test_row,train_row)\n",
        "    dist.append((train_row,edist))\n",
        "  dist.sort(key=lambda tup:tup[1])\n",
        "\n",
        "  neighbors=list()\n",
        "  for i in range(num_neighbors):\n",
        "    neighbors.append(dist[i][0])\n",
        "  return neighbors, dist"
      ],
      "execution_count": null,
      "outputs": []
    },
    {
      "cell_type": "code",
      "metadata": {
        "id": "G4VW87q-zGhe",
        "colab_type": "code",
        "colab": {
          "base_uri": "https://localhost:8080/",
          "height": 139
        },
        "outputId": "5550ac30-6c52-4525-cc12-506ca38dd54f"
      },
      "source": [
        "n,d= get_neighbors(test_data,test_data[0],3)\n",
        "print('Distance \\n')\n",
        "print(d)\n",
        "print('Neighbors: \\n')\n",
        "print(n)"
      ],
      "execution_count": null,
      "outputs": [
        {
          "output_type": "stream",
          "text": [
            "Distance \n",
            "\n",
            "[(array([2.7810836, 2.550537 , 0.       ]), 0.0), (array([3.06407232, 3.00530597, 0.        ]), 0.5356280721938492), (array([1.46548937, 2.36212508, 0.        ]), 1.3290173915275787), (array([1.38807019, 1.85022032, 0.        ]), 1.559143938554055), (array([3.39656169, 4.40029353, 0.        ]), 1.9494646655653247), (array([5.33244125, 2.08862677, 1.        ]), 2.592833759950511), (array([6.92259672, 1.77106367, 1.        ]), 4.214227042632867), (array([7.62753121, 2.75926224, 1.        ]), 4.850940186986409), (array([7.67375647, 3.50856301, 1.        ]), 4.985585382449795), (array([ 8.67541865, -0.24206865,  1.        ]), 6.522409988228339)]\n",
            "Neighbors: \n",
            "\n",
            "[array([2.7810836, 2.550537 , 0.       ]), array([3.06407232, 3.00530597, 0.        ]), array([1.46548937, 2.36212508, 0.        ])]\n"
          ],
          "name": "stdout"
        }
      ]
    },
    {
      "cell_type": "code",
      "metadata": {
        "id": "nx5MfqVA4UJR",
        "colab_type": "code",
        "colab": {}
      },
      "source": [
        "#Predict based on the majority among neighbors\n",
        "def predict_class(train, test_row,numb_n):\n",
        "  neig,ecl_dis=get_neighbors(train,test_row,numb_n)\n",
        "  output=[row[-1] for row in neig]\n",
        "  pred=max(set(output), key=output.count)\n",
        "  return pred"
      ],
      "execution_count": null,
      "outputs": []
    },
    {
      "cell_type": "code",
      "metadata": {
        "id": "1oJFzjKv47Nb",
        "colab_type": "code",
        "colab": {
          "base_uri": "https://localhost:8080/",
          "height": 51
        },
        "outputId": "4ba7885b-d089-460a-d175-eb23f9b4604d"
      },
      "source": [
        "pred_out=predict_class(test_data, test_data[8],5)\n",
        "print('Expected Value: ',test_data[8][-1])\n",
        "print('Got: ',pred_out)"
      ],
      "execution_count": null,
      "outputs": [
        {
          "output_type": "stream",
          "text": [
            "Expected Value:  1.0\n",
            "Got:  1.0\n"
          ],
          "name": "stdout"
        }
      ]
    },
    {
      "cell_type": "code",
      "metadata": {
        "id": "Q6vNYnCZ66vH",
        "colab_type": "code",
        "colab": {}
      },
      "source": [
        "import seaborn as sn\n",
        "import numpy as np\n",
        "import matplotlib.pyplot as plt\n",
        "import pandas as pd\n",
        "from sklearn.model_selection import train_test_split\n",
        "from sklearn.preprocessing import StandardScaler\n",
        "from sklearn.neighbors import KNeighborsClassifier\n",
        "from sklearn.metrics import confusion_matrix"
      ],
      "execution_count": null,
      "outputs": []
    },
    {
      "cell_type": "code",
      "metadata": {
        "id": "9gfwkTyf8JCR",
        "colab_type": "code",
        "colab": {
          "base_uri": "https://localhost:8080/",
          "height": 419
        },
        "outputId": "db049028-0564-4fb7-b13d-373b36507c46"
      },
      "source": [
        "df=pd.read_csv('iris_data.csv')\n",
        "df"
      ],
      "execution_count": null,
      "outputs": [
        {
          "output_type": "execute_result",
          "data": {
            "text/html": [
              "<div>\n",
              "<style scoped>\n",
              "    .dataframe tbody tr th:only-of-type {\n",
              "        vertical-align: middle;\n",
              "    }\n",
              "\n",
              "    .dataframe tbody tr th {\n",
              "        vertical-align: top;\n",
              "    }\n",
              "\n",
              "    .dataframe thead th {\n",
              "        text-align: right;\n",
              "    }\n",
              "</style>\n",
              "<table border=\"1\" class=\"dataframe\">\n",
              "  <thead>\n",
              "    <tr style=\"text-align: right;\">\n",
              "      <th></th>\n",
              "      <th>sepal_length</th>\n",
              "      <th>sepal_width</th>\n",
              "      <th>petal_length</th>\n",
              "      <th>petal_width</th>\n",
              "      <th>species</th>\n",
              "    </tr>\n",
              "  </thead>\n",
              "  <tbody>\n",
              "    <tr>\n",
              "      <th>0</th>\n",
              "      <td>5.1</td>\n",
              "      <td>3.5</td>\n",
              "      <td>1.4</td>\n",
              "      <td>0.2</td>\n",
              "      <td>Iris-setosa</td>\n",
              "    </tr>\n",
              "    <tr>\n",
              "      <th>1</th>\n",
              "      <td>4.9</td>\n",
              "      <td>3.0</td>\n",
              "      <td>1.4</td>\n",
              "      <td>0.2</td>\n",
              "      <td>Iris-setosa</td>\n",
              "    </tr>\n",
              "    <tr>\n",
              "      <th>2</th>\n",
              "      <td>4.7</td>\n",
              "      <td>3.2</td>\n",
              "      <td>1.3</td>\n",
              "      <td>0.2</td>\n",
              "      <td>Iris-setosa</td>\n",
              "    </tr>\n",
              "    <tr>\n",
              "      <th>3</th>\n",
              "      <td>4.6</td>\n",
              "      <td>3.1</td>\n",
              "      <td>1.5</td>\n",
              "      <td>0.2</td>\n",
              "      <td>Iris-setosa</td>\n",
              "    </tr>\n",
              "    <tr>\n",
              "      <th>4</th>\n",
              "      <td>5.0</td>\n",
              "      <td>3.6</td>\n",
              "      <td>1.4</td>\n",
              "      <td>0.2</td>\n",
              "      <td>Iris-setosa</td>\n",
              "    </tr>\n",
              "    <tr>\n",
              "      <th>...</th>\n",
              "      <td>...</td>\n",
              "      <td>...</td>\n",
              "      <td>...</td>\n",
              "      <td>...</td>\n",
              "      <td>...</td>\n",
              "    </tr>\n",
              "    <tr>\n",
              "      <th>145</th>\n",
              "      <td>6.7</td>\n",
              "      <td>3.0</td>\n",
              "      <td>5.2</td>\n",
              "      <td>2.3</td>\n",
              "      <td>Iris-virginica</td>\n",
              "    </tr>\n",
              "    <tr>\n",
              "      <th>146</th>\n",
              "      <td>6.3</td>\n",
              "      <td>2.5</td>\n",
              "      <td>5.0</td>\n",
              "      <td>1.9</td>\n",
              "      <td>Iris-virginica</td>\n",
              "    </tr>\n",
              "    <tr>\n",
              "      <th>147</th>\n",
              "      <td>6.5</td>\n",
              "      <td>3.0</td>\n",
              "      <td>5.2</td>\n",
              "      <td>2.0</td>\n",
              "      <td>Iris-virginica</td>\n",
              "    </tr>\n",
              "    <tr>\n",
              "      <th>148</th>\n",
              "      <td>6.2</td>\n",
              "      <td>3.4</td>\n",
              "      <td>5.4</td>\n",
              "      <td>2.3</td>\n",
              "      <td>Iris-virginica</td>\n",
              "    </tr>\n",
              "    <tr>\n",
              "      <th>149</th>\n",
              "      <td>5.9</td>\n",
              "      <td>3.0</td>\n",
              "      <td>5.1</td>\n",
              "      <td>1.8</td>\n",
              "      <td>Iris-virginica</td>\n",
              "    </tr>\n",
              "  </tbody>\n",
              "</table>\n",
              "<p>150 rows × 5 columns</p>\n",
              "</div>"
            ],
            "text/plain": [
              "     sepal_length  sepal_width  petal_length  petal_width         species\n",
              "0             5.1          3.5           1.4          0.2     Iris-setosa\n",
              "1             4.9          3.0           1.4          0.2     Iris-setosa\n",
              "2             4.7          3.2           1.3          0.2     Iris-setosa\n",
              "3             4.6          3.1           1.5          0.2     Iris-setosa\n",
              "4             5.0          3.6           1.4          0.2     Iris-setosa\n",
              "..            ...          ...           ...          ...             ...\n",
              "145           6.7          3.0           5.2          2.3  Iris-virginica\n",
              "146           6.3          2.5           5.0          1.9  Iris-virginica\n",
              "147           6.5          3.0           5.2          2.0  Iris-virginica\n",
              "148           6.2          3.4           5.4          2.3  Iris-virginica\n",
              "149           5.9          3.0           5.1          1.8  Iris-virginica\n",
              "\n",
              "[150 rows x 5 columns]"
            ]
          },
          "metadata": {
            "tags": []
          },
          "execution_count": 55
        }
      ]
    },
    {
      "cell_type": "code",
      "metadata": {
        "id": "5B-mOVGm86Dc",
        "colab_type": "code",
        "colab": {}
      },
      "source": [
        "X=df.iloc[:,:-1]\n",
        "y=df.iloc[:,4]"
      ],
      "execution_count": null,
      "outputs": []
    },
    {
      "cell_type": "code",
      "metadata": {
        "id": "D83E1rou9Inc",
        "colab_type": "code",
        "colab": {
          "base_uri": "https://localhost:8080/",
          "height": 300
        },
        "outputId": "c583f93f-e78f-422d-a754-c1d1b8f0d4ae"
      },
      "source": [
        "X_train, X_test, y_train, y_test=train_test_split(X,y,test_size=0.20,random_state=1)\n",
        "#preprocess the data \n",
        "scaler=StandardScaler()\n",
        "#scaler.fit converts p to q using q=(p-mean)/std\n",
        "scaler.fit(X_train) \n",
        "X_train=scaler.transform(X_train)\n",
        "X_test=scaler.transform(X_test)\n",
        "classifier=KNeighborsClassifier(n_neighbors=5)\n",
        "classifier.fit(X_train,y_train)\n",
        "y_pred=classifier.predict(X_test)\n",
        "\n",
        "confusion_matrix=pd.crosstab(y_test,y_pred,rownames=['Actual'], colnames=['Predicted'])\n",
        "sn.heatmap(confusion_matrix,annot=True)"
      ],
      "execution_count": null,
      "outputs": [
        {
          "output_type": "execute_result",
          "data": {
            "text/plain": [
              "<matplotlib.axes._subplots.AxesSubplot at 0x7fb8a214fe10>"
            ]
          },
          "metadata": {
            "tags": []
          },
          "execution_count": 88
        },
        {
          "output_type": "display_data",
          "data": {
            "image/png": "[encoded data removed]",
            "text/plain": [
              "<Figure size 432x288 with 2 Axes>"
            ]
          },
          "metadata": {
            "tags": [],
            "needs_background": "light"
          }
        }
      ]
    },
    {
      "cell_type": "code",
      "metadata": {
        "id": "aTOFjQL0DIyT",
        "colab_type": "code",
        "colab": {
          "base_uri": "https://localhost:8080/",
          "height": 34
        },
        "outputId": "c8d979a3-2a8d-4967-f929-47714ce7ef93"
      },
      "source": [
        "accuracy=27/30\n",
        "accuracy"
      ],
      "execution_count": null,
      "outputs": [
        {
          "output_type": "execute_result",
          "data": {
            "text/plain": [
              "0.9"
            ]
          },
          "metadata": {
            "tags": []
          },
          "execution_count": 94
        }
      ]
    },
    {
      "cell_type": "markdown",
      "metadata": {
        "id": "JCnRfq-aDcFN",
        "colab_type": "text"
      },
      "source": [
        "Conclusion: \n",
        "1) For the given data sets, K neighbors are chosen which are nearest to N data points. The euclidean distance is used to determine the distance between teh data points. It is shown that, predicted and actual values are same. \n",
        "2) iris flower, in Kn classifier sklearn library is used. 80 % of the data is used for training, and 20 % of the data is used for testing.  Before applying classifier, each independent variable is normalised to get uniform range. Confusion matrix shows that three data points are predicted wrong, therefore accuracy for the given data set is 90 percent.  "
      ]
    }
  ]
}