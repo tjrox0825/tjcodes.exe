{
  "nbformat": 4,
  "nbformat_minor": 0,
  "metadata": {
    "colab": {
      "name": "MBA_3_CE_Sem6_N049_Exp2.ipynb",
      "provenance": [],
      "collapsed_sections": []
    },
    "kernelspec": {
      "name": "python3",
      "display_name": "Python 3"
    }
  },
  "cells": [
    {
      "cell_type": "markdown",
      "metadata": {
        "id": "mdHodP9jYssP"
      },
      "source": [
        "Name: Tarun Tanmay\n",
        "\n",
        "Class: MBATech CE \n",
        "\n",
        "Sem: 6\n",
        "\n",
        "Roll No: N049 "
      ]
    },
    {
      "cell_type": "markdown",
      "metadata": {
        "id": "9mlMLDukp7cT"
      },
      "source": [
        "Experiment 2 "
      ]
    },
    {
      "cell_type": "markdown",
      "metadata": {
        "id": "08msXNnxp3NR"
      },
      "source": [
        "Importing important libraries"
      ]
    },
    {
      "cell_type": "code",
      "metadata": {
        "id": "X1taI-gmXTY2"
      },
      "source": [
        "#importing all the required libraries:\n",
        "import numpy as np #numpy for performing mathematical calculations\n",
        "import tensorflow as tf #numerical computations of machine learning and deep learning algorithms\n",
        "import pandas as pd #pandas for reading and exploring the dataset"
      ],
      "execution_count": null,
      "outputs": []
    },
    {
      "cell_type": "markdown",
      "metadata": {
        "id": "Fn11V_GYbVV4"
      },
      "source": [
        "Exploring the Dataset\n"
      ]
    },
    {
      "cell_type": "code",
      "metadata": {
        "colab": {
          "base_uri": "https://localhost:8080/",
          "height": 204
        },
        "id": "-ySUwy9QbIJN",
        "outputId": "e605f971-b557-4cd3-fd24-b25d1ad7bad8"
      },
      "source": [
        "df=pd.read_csv('diabetes.csv') #reading the diabetes dataset using pandas\n",
        "df.head() #displaying the content of the dataset"
      ],
      "execution_count": null,
      "outputs": [
        {
          "output_type": "execute_result",
          "data": {
            "text/html": [
              "<div>\n",
              "<style scoped>\n",
              "    .dataframe tbody tr th:only-of-type {\n",
              "        vertical-align: middle;\n",
              "    }\n",
              "\n",
              "    .dataframe tbody tr th {\n",
              "        vertical-align: top;\n",
              "    }\n",
              "\n",
              "    .dataframe thead th {\n",
              "        text-align: right;\n",
              "    }\n",
              "</style>\n",
              "<table border=\"1\" class=\"dataframe\">\n",
              "  <thead>\n",
              "    <tr style=\"text-align: right;\">\n",
              "      <th></th>\n",
              "      <th>Glucose</th>\n",
              "      <th>BMI</th>\n",
              "      <th>Outcome</th>\n",
              "    </tr>\n",
              "  </thead>\n",
              "  <tbody>\n",
              "    <tr>\n",
              "      <th>0</th>\n",
              "      <td>148</td>\n",
              "      <td>33.6</td>\n",
              "      <td>1</td>\n",
              "    </tr>\n",
              "    <tr>\n",
              "      <th>1</th>\n",
              "      <td>85</td>\n",
              "      <td>26.6</td>\n",
              "      <td>0</td>\n",
              "    </tr>\n",
              "    <tr>\n",
              "      <th>2</th>\n",
              "      <td>183</td>\n",
              "      <td>23.3</td>\n",
              "      <td>1</td>\n",
              "    </tr>\n",
              "    <tr>\n",
              "      <th>3</th>\n",
              "      <td>89</td>\n",
              "      <td>28.1</td>\n",
              "      <td>0</td>\n",
              "    </tr>\n",
              "    <tr>\n",
              "      <th>4</th>\n",
              "      <td>137</td>\n",
              "      <td>43.1</td>\n",
              "      <td>1</td>\n",
              "    </tr>\n",
              "  </tbody>\n",
              "</table>\n",
              "</div>"
            ],
            "text/plain": [
              "   Glucose   BMI  Outcome\n",
              "0      148  33.6        1\n",
              "1       85  26.6        0\n",
              "2      183  23.3        1\n",
              "3       89  28.1        0\n",
              "4      137  43.1        1"
            ]
          },
          "metadata": {
            "tags": []
          },
          "execution_count": 5
        }
      ]
    },
    {
      "cell_type": "code",
      "metadata": {
        "colab": {
          "base_uri": "https://localhost:8080/",
          "height": 204
        },
        "id": "kBWB1oqubw6m",
        "outputId": "7c263970-c1d3-4125-f0de-3e0e45cf0d43"
      },
      "source": [
        "#Feature Scaling\n",
        "from sklearn.preprocessing import StandardScaler\n",
        "scaler=StandardScaler()#initialising the StandardScaler function with a variable named scaler \n",
        "feature=df.iloc[:,0:2] #taking all rows; and columns from 0 to 2 \n",
        "scaler.fit(feature) #fitting the model \n",
        "feature=scaler.transform(feature) #transforming the model\n",
        "df.iloc[:,0:2]=feature #storing transformed values back into the dataset\n",
        "df.head() #displaying the transformed dataset\n"
      ],
      "execution_count": null,
      "outputs": [
        {
          "output_type": "execute_result",
          "data": {
            "text/html": [
              "<div>\n",
              "<style scoped>\n",
              "    .dataframe tbody tr th:only-of-type {\n",
              "        vertical-align: middle;\n",
              "    }\n",
              "\n",
              "    .dataframe tbody tr th {\n",
              "        vertical-align: top;\n",
              "    }\n",
              "\n",
              "    .dataframe thead th {\n",
              "        text-align: right;\n",
              "    }\n",
              "</style>\n",
              "<table border=\"1\" class=\"dataframe\">\n",
              "  <thead>\n",
              "    <tr style=\"text-align: right;\">\n",
              "      <th></th>\n",
              "      <th>Glucose</th>\n",
              "      <th>BMI</th>\n",
              "      <th>Outcome</th>\n",
              "    </tr>\n",
              "  </thead>\n",
              "  <tbody>\n",
              "    <tr>\n",
              "      <th>0</th>\n",
              "      <td>0.848324</td>\n",
              "      <td>0.204013</td>\n",
              "      <td>1</td>\n",
              "    </tr>\n",
              "    <tr>\n",
              "      <th>1</th>\n",
              "      <td>-1.123396</td>\n",
              "      <td>-0.684422</td>\n",
              "      <td>0</td>\n",
              "    </tr>\n",
              "    <tr>\n",
              "      <th>2</th>\n",
              "      <td>1.943724</td>\n",
              "      <td>-1.103255</td>\n",
              "      <td>1</td>\n",
              "    </tr>\n",
              "    <tr>\n",
              "      <th>3</th>\n",
              "      <td>-0.998208</td>\n",
              "      <td>-0.494043</td>\n",
              "      <td>0</td>\n",
              "    </tr>\n",
              "    <tr>\n",
              "      <th>4</th>\n",
              "      <td>0.504055</td>\n",
              "      <td>1.409746</td>\n",
              "      <td>1</td>\n",
              "    </tr>\n",
              "  </tbody>\n",
              "</table>\n",
              "</div>"
            ],
            "text/plain": [
              "    Glucose       BMI  Outcome\n",
              "0  0.848324  0.204013        1\n",
              "1 -1.123396 -0.684422        0\n",
              "2  1.943724 -1.103255        1\n",
              "3 -0.998208 -0.494043        0\n",
              "4  0.504055  1.409746        1"
            ]
          },
          "metadata": {
            "tags": []
          },
          "execution_count": 6
        }
      ]
    },
    {
      "cell_type": "code",
      "metadata": {
        "id": "gN6LQIDidTEV"
      },
      "source": [
        "#Splitting the dataset into train and test\n",
        "from sklearn.model_selection import train_test_split\n",
        "x_train, x_test, y_train, y_test = train_test_split(df.iloc[:,0:2], df.Outcome, test_size=0.2, random_state=4)\n",
        "#print(x_train)\n",
        "#614 rows and 2 columns are there after splitting the model for training and testing"
      ],
      "execution_count": null,
      "outputs": []
    },
    {
      "cell_type": "code",
      "metadata": {
        "id": "ylO0DGY5eQbn"
      },
      "source": [
        "#Building a Neural Network Model for Keras\n",
        "from keras import models as mdls #for grouping input and output layers into object \n",
        "from keras import layers as lyrs #building block of keras model\n",
        "model=mdls.Sequential([lyrs.Dense(1, input_shape=(2,), activation='sigmoid', kernel_initializer='ones', bias_initializer='zeros')])\n",
        "model=mdls.Sequential([lyrs.Dense(1,activation='sigmoid', kernel_initializer='ones', bias_initializer='zeros' )])\n"
      ],
      "execution_count": null,
      "outputs": []
    },
    {
      "cell_type": "code",
      "metadata": {
        "colab": {
          "base_uri": "https://localhost:8080/"
        },
        "id": "RvgQvl0Vi_bB",
        "outputId": "99b9cda3-5613-4a23-df5c-70907eb00f55"
      },
      "source": [
        "#Compiling the Model\n",
        "model.compile(optimizer='SGD', loss='MeanSquaredError', metrics=['accuracy']) #using SGD algorithm as optimizer\n",
        "#fitting the model\n",
        "model.fit(x_train,y_train, epochs=10)\n"
      ],
      "execution_count": null,
      "outputs": [
        {
          "output_type": "stream",
          "text": [
            "Epoch 1/10\n",
            "WARNING:tensorflow:Layer dense_2 is casting an input tensor from dtype float64 to the layer's dtype of float32, which is new behavior in TensorFlow 2.  The layer has dtype float32 because its dtype defaults to floatx.\n",
            "\n",
            "If you intended to run this layer in float32, you can safely ignore this warning. If in doubt, this warning is likely only an issue if you are porting a TensorFlow 1.X model to TensorFlow 2.\n",
            "\n",
            "To change all layers to have dtype float64 by default, call `tf.keras.backend.set_floatx('float64')`. To change just this layer, pass dtype='float64' to the layer constructor. If you are the author of this layer, you can disable autocasting by passing autocast=False to the base Layer constructor.\n",
            "\n",
            "20/20 [==============================] - 0s 997us/step - loss: 0.1957 - accuracy: 0.6954\n",
            "Epoch 2/10\n",
            "20/20 [==============================] - 0s 910us/step - loss: 0.1951 - accuracy: 0.6938\n",
            "Epoch 3/10\n",
            "20/20 [==============================] - 0s 837us/step - loss: 0.1944 - accuracy: 0.6938\n",
            "Epoch 4/10\n",
            "20/20 [==============================] - 0s 1ms/step - loss: 0.1938 - accuracy: 0.6954\n",
            "Epoch 5/10\n",
            "20/20 [==============================] - 0s 847us/step - loss: 0.1932 - accuracy: 0.6954\n",
            "Epoch 6/10\n",
            "20/20 [==============================] - 0s 908us/step - loss: 0.1926 - accuracy: 0.6987\n",
            "Epoch 7/10\n",
            "20/20 [==============================] - 0s 993us/step - loss: 0.1921 - accuracy: 0.7003\n",
            "Epoch 8/10\n",
            "20/20 [==============================] - 0s 967us/step - loss: 0.1916 - accuracy: 0.7036\n",
            "Epoch 9/10\n",
            "20/20 [==============================] - 0s 913us/step - loss: 0.1911 - accuracy: 0.7036\n",
            "Epoch 10/10\n",
            "20/20 [==============================] - 0s 1ms/step - loss: 0.1905 - accuracy: 0.7052\n"
          ],
          "name": "stdout"
        },
        {
          "output_type": "execute_result",
          "data": {
            "text/plain": [
              "<tensorflow.python.keras.callbacks.History at 0x7f54b5010f98>"
            ]
          },
          "metadata": {
            "tags": []
          },
          "execution_count": 16
        }
      ]
    },
    {
      "cell_type": "code",
      "metadata": {
        "colab": {
          "base_uri": "https://localhost:8080/"
        },
        "id": "F21XOQwhmjC4",
        "outputId": "92c1d392-2536-46d8-9c42-b017706798ec"
      },
      "source": [
        "#Evaluate the Model\n",
        "model.evaluate(x_test, y_test)"
      ],
      "execution_count": null,
      "outputs": [
        {
          "output_type": "stream",
          "text": [
            "5/5 [==============================] - 0s 2ms/step - loss: 0.1692 - accuracy: 0.7532\n"
          ],
          "name": "stdout"
        },
        {
          "output_type": "execute_result",
          "data": {
            "text/plain": [
              "[0.16924573481082916, 0.7532467246055603]"
            ]
          },
          "metadata": {
            "tags": []
          },
          "execution_count": 17
        }
      ]
    },
    {
      "cell_type": "code",
      "metadata": {
        "colab": {
          "base_uri": "https://localhost:8080/"
        },
        "id": "5kdcvK7pnpoU",
        "outputId": "5d80f810-b8b8-49b4-faef-9bc4a635979e"
      },
      "source": [
        "model.summary()"
      ],
      "execution_count": null,
      "outputs": [
        {
          "output_type": "stream",
          "text": [
            "Model: \"sequential_2\"\n",
            "_________________________________________________________________\n",
            "Layer (type)                 Output Shape              Param #   \n",
            "=================================================================\n",
            "dense_2 (Dense)              (None, 1)                 3         \n",
            "=================================================================\n",
            "Total params: 3\n",
            "Trainable params: 3\n",
            "Non-trainable params: 0\n",
            "_________________________________________________________________\n"
          ],
          "name": "stdout"
        }
      ]
    },
    {
      "cell_type": "code",
      "metadata": {
        "colab": {
          "base_uri": "https://localhost:8080/"
        },
        "id": "--dNTQ2Eo43p",
        "outputId": "d546da6d-d865-4c19-886f-c7a4d3d90487"
      },
      "source": [
        "yhat= model.predict(x_test)\n",
        "y_test_float=y_test.astype('float32')\n",
        "yhat=np.insert(yhat, -1, y_test_float, axis=1)\n",
        "print(yhat)"
      ],
      "execution_count": null,
      "outputs": [
        {
          "output_type": "stream",
          "text": [
            "[[0.         0.3181274 ]\n",
            " [0.         0.1163142 ]\n",
            " [0.         0.28703865]\n",
            " [0.         0.8136753 ]\n",
            " [1.         0.72302276]\n",
            " [1.         0.81193817]\n",
            " [1.         0.8387553 ]\n",
            " [1.         0.1741294 ]\n",
            " [1.         0.8868479 ]\n",
            " [0.         0.18671277]\n",
            " [0.         0.6979434 ]\n",
            " [0.         0.22978547]\n",
            " [1.         0.39758408]\n",
            " [0.         0.19335097]\n",
            " [0.         0.2381855 ]\n",
            " [1.         0.7429305 ]\n",
            " [1.         0.90767264]\n",
            " [1.         0.9762547 ]\n",
            " [0.         0.07567739]\n",
            " [0.         0.17731097]\n",
            " [0.         0.2685849 ]\n",
            " [0.         0.78329766]\n",
            " [0.         0.23477411]\n",
            " [1.         0.9568111 ]\n",
            " [1.         0.22308457]\n",
            " [0.         0.80283356]\n",
            " [0.         0.21792084]\n",
            " [1.         0.5725291 ]\n",
            " [1.         0.5427946 ]\n",
            " [1.         0.3025397 ]\n",
            " [1.         0.88069034]\n",
            " [0.         0.16214323]\n",
            " [0.         0.4321878 ]\n",
            " [0.         0.10215646]\n",
            " [0.         0.87814164]\n",
            " [0.         0.32353935]\n",
            " [0.         0.7222866 ]\n",
            " [0.         0.6725074 ]\n",
            " [0.         0.10231572]\n",
            " [1.         0.80207133]\n",
            " [1.         0.7222866 ]\n",
            " [0.         0.6006443 ]\n",
            " [0.         0.4244719 ]\n",
            " [1.         0.9252434 ]\n",
            " [0.         0.29162377]\n",
            " [0.         0.12910476]\n",
            " [0.         0.37851402]\n",
            " [1.         0.925658  ]\n",
            " [0.         0.44504347]\n",
            " [0.         0.15592006]\n",
            " [1.         0.7539655 ]\n",
            " [0.         0.6609061 ]\n",
            " [0.         0.21622992]\n",
            " [0.         0.7931596 ]\n",
            " [1.         0.6213496 ]\n",
            " [0.         0.11910832]\n",
            " [0.         0.1837002 ]\n",
            " [0.         0.11218619]\n",
            " [0.         0.15256691]\n",
            " [1.         0.8591645 ]\n",
            " [0.         0.31943223]\n",
            " [0.         0.09293497]\n",
            " [1.         0.6129888 ]\n",
            " [0.         0.03234825]\n",
            " [0.         0.49953523]\n",
            " [0.         0.19384089]\n",
            " [0.         0.13081098]\n",
            " [0.         0.6026286 ]\n",
            " [0.         0.5560167 ]\n",
            " [1.         0.94549704]\n",
            " [0.         0.22862941]\n",
            " [1.         0.57589155]\n",
            " [0.         0.36623436]\n",
            " [0.         0.12830362]\n",
            " [0.         0.24775106]\n",
            " [1.         0.9114561 ]\n",
            " [0.         0.49532893]\n",
            " [1.         0.45254162]\n",
            " [0.         0.26019698]\n",
            " [0.         0.81666255]\n",
            " [1.         0.8649124 ]\n",
            " [0.         0.5408057 ]\n",
            " [0.         0.26993796]\n",
            " [1.         0.9816883 ]\n",
            " [0.         0.7518294 ]\n",
            " [0.         0.10419497]\n",
            " [0.         0.08672506]\n",
            " [1.         0.8269937 ]\n",
            " [0.         0.57483155]\n",
            " [1.         0.37036598]\n",
            " [0.         0.702805  ]\n",
            " [0.         0.16249722]\n",
            " [0.         0.4391974 ]\n",
            " [0.         0.3291905 ]\n",
            " [0.         0.1082063 ]\n",
            " [0.         0.45850274]\n",
            " [0.         0.3789223 ]\n",
            " [1.         0.89049387]\n",
            " [1.         0.7639555 ]\n",
            " [0.         0.4993346 ]\n",
            " [0.         0.32724708]\n",
            " [0.         0.7035294 ]\n",
            " [1.         0.39389598]\n",
            " [1.         0.5168211 ]\n",
            " [1.         0.9267124 ]\n",
            " [0.         0.57559836]\n",
            " [0.         0.1566332 ]\n",
            " [1.         0.85354733]\n",
            " [1.         0.6047529 ]\n",
            " [0.         0.59671456]\n",
            " [0.         0.8821835 ]\n",
            " [1.         0.9065418 ]\n",
            " [1.         0.80966437]\n",
            " [0.         0.13202259]\n",
            " [0.         0.28932583]\n",
            " [0.         0.29772964]\n",
            " [0.         0.5541041 ]\n",
            " [0.         0.74733007]\n",
            " [1.         0.6739613 ]\n",
            " [1.         0.75543666]\n",
            " [0.         0.47222283]\n",
            " [0.         0.21719342]\n",
            " [0.         0.5618598 ]\n",
            " [0.         0.21209499]\n",
            " [0.         0.58907574]\n",
            " [0.         0.33451962]\n",
            " [0.         0.31603092]\n",
            " [0.         0.1332671 ]\n",
            " [0.         0.3416163 ]\n",
            " [1.         0.95329314]\n",
            " [1.         0.6232326 ]\n",
            " [0.         0.11940983]\n",
            " [1.         0.34257805]\n",
            " [0.         0.3436765 ]\n",
            " [1.         0.72623307]\n",
            " [0.         0.14254305]\n",
            " [0.         0.49053955]\n",
            " [0.         0.32310116]\n",
            " [1.         0.7365031 ]\n",
            " [0.         0.94741195]\n",
            " [0.         0.20853561]\n",
            " [0.         0.13593444]\n",
            " [0.         0.19456166]\n",
            " [0.         0.59892946]\n",
            " [1.         0.83941334]\n",
            " [1.         0.79666424]\n",
            " [1.         0.96063167]\n",
            " [0.         0.60945106]\n",
            " [0.         0.3837892 ]\n",
            " [0.         0.61094385]\n",
            " [0.         0.09404969]\n",
            " [0.         0.58256346]\n",
            " [1.         0.7309202 ]\n",
            " [1.         0.81682277]]\n"
          ],
          "name": "stdout"
        }
      ]
    }
  ]
}