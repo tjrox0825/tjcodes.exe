{
  "nbformat": 4,
  "nbformat_minor": 0,
  "metadata": {
    "colab": {
      "name": "MBA_3_CE_Sem6_N049_Exp9.ipynb",
      "provenance": [],
      "collapsed_sections": []
    },
    "kernelspec": {
      "name": "python3",
      "display_name": "Python 3"
    },
    "language_info": {
      "name": "python"
    }
  },
  "cells": [
    {
      "cell_type": "markdown",
      "metadata": {
        "id": "5id8OHsXBrld"
      },
      "source": [
        "Name: Tarun Tanmay\n",
        "\n",
        "Class: MBATech CE\n",
        "\n",
        "Roll No: N049\n",
        "\n",
        "SAP ID: 70471018055"
      ]
    },
    {
      "cell_type": "code",
      "metadata": {
        "id": "XSdAKSL4BmnW"
      },
      "source": [
        "#Experiment 9 \n",
        "#Use LSTM to predict stock price "
      ],
      "execution_count": null,
      "outputs": []
    },
    {
      "cell_type": "markdown",
      "metadata": {
        "id": "T2u4Uj4FCsq4"
      },
      "source": [
        "LSTM stands for 'long short-term memory' in deep learning which is a recurrent neural netowk (RNN)"
      ]
    },
    {
      "cell_type": "markdown",
      "metadata": {
        "id": "d6e3jTo9DZ8i"
      },
      "source": [
        "Importing Libraries:"
      ]
    },
    {
      "cell_type": "code",
      "metadata": {
        "id": "PsNLzb5uBp2M"
      },
      "source": [
        "import numpy as np #numpy arrays for mathematical computations\n",
        "import matplotlib.pyplot as plt #for visualising the data in graphical form\n",
        "import pandas as pd #to read our csv file for preprocessing and further operations"
      ],
      "execution_count": 4,
      "outputs": []
    },
    {
      "cell_type": "code",
      "metadata": {
        "colab": {
          "base_uri": "https://localhost:8080/",
          "height": 204
        },
        "id": "QEQf-MS1DYXR",
        "outputId": "a4ba7714-fd2a-45a2-a229-679f0a670cb2"
      },
      "source": [
        "dataset_train=pd.read_csv('NSE-TATAGLOBAL.csv') #reading the input data csv file\n",
        "dataset_train.head() #summarising what's in the input data csv file"
      ],
      "execution_count": 5,
      "outputs": [
        {
          "output_type": "execute_result",
          "data": {
            "text/html": [
              "<div>\n",
              "<style scoped>\n",
              "    .dataframe tbody tr th:only-of-type {\n",
              "        vertical-align: middle;\n",
              "    }\n",
              "\n",
              "    .dataframe tbody tr th {\n",
              "        vertical-align: top;\n",
              "    }\n",
              "\n",
              "    .dataframe thead th {\n",
              "        text-align: right;\n",
              "    }\n",
              "</style>\n",
              "<table border=\"1\" class=\"dataframe\">\n",
              "  <thead>\n",
              "    <tr style=\"text-align: right;\">\n",
              "      <th></th>\n",
              "      <th>Date</th>\n",
              "      <th>Open</th>\n",
              "      <th>High</th>\n",
              "      <th>Low</th>\n",
              "      <th>Last</th>\n",
              "      <th>Close</th>\n",
              "      <th>Total Trade Quantity</th>\n",
              "      <th>Turnover (Lacs)</th>\n",
              "    </tr>\n",
              "  </thead>\n",
              "  <tbody>\n",
              "    <tr>\n",
              "      <th>0</th>\n",
              "      <td>2018-09-28</td>\n",
              "      <td>234.05</td>\n",
              "      <td>235.95</td>\n",
              "      <td>230.20</td>\n",
              "      <td>233.50</td>\n",
              "      <td>233.75</td>\n",
              "      <td>3069914</td>\n",
              "      <td>7162.35</td>\n",
              "    </tr>\n",
              "    <tr>\n",
              "      <th>1</th>\n",
              "      <td>2018-09-27</td>\n",
              "      <td>234.55</td>\n",
              "      <td>236.80</td>\n",
              "      <td>231.10</td>\n",
              "      <td>233.80</td>\n",
              "      <td>233.25</td>\n",
              "      <td>5082859</td>\n",
              "      <td>11859.95</td>\n",
              "    </tr>\n",
              "    <tr>\n",
              "      <th>2</th>\n",
              "      <td>2018-09-26</td>\n",
              "      <td>240.00</td>\n",
              "      <td>240.00</td>\n",
              "      <td>232.50</td>\n",
              "      <td>235.00</td>\n",
              "      <td>234.25</td>\n",
              "      <td>2240909</td>\n",
              "      <td>5248.60</td>\n",
              "    </tr>\n",
              "    <tr>\n",
              "      <th>3</th>\n",
              "      <td>2018-09-25</td>\n",
              "      <td>233.30</td>\n",
              "      <td>236.75</td>\n",
              "      <td>232.00</td>\n",
              "      <td>236.25</td>\n",
              "      <td>236.10</td>\n",
              "      <td>2349368</td>\n",
              "      <td>5503.90</td>\n",
              "    </tr>\n",
              "    <tr>\n",
              "      <th>4</th>\n",
              "      <td>2018-09-24</td>\n",
              "      <td>233.55</td>\n",
              "      <td>239.20</td>\n",
              "      <td>230.75</td>\n",
              "      <td>234.00</td>\n",
              "      <td>233.30</td>\n",
              "      <td>3423509</td>\n",
              "      <td>7999.55</td>\n",
              "    </tr>\n",
              "  </tbody>\n",
              "</table>\n",
              "</div>"
            ],
            "text/plain": [
              "         Date    Open    High  ...   Close  Total Trade Quantity  Turnover (Lacs)\n",
              "0  2018-09-28  234.05  235.95  ...  233.75               3069914          7162.35\n",
              "1  2018-09-27  234.55  236.80  ...  233.25               5082859         11859.95\n",
              "2  2018-09-26  240.00  240.00  ...  234.25               2240909          5248.60\n",
              "3  2018-09-25  233.30  236.75  ...  236.10               2349368          5503.90\n",
              "4  2018-09-24  233.55  239.20  ...  233.30               3423509          7999.55\n",
              "\n",
              "[5 rows x 8 columns]"
            ]
          },
          "metadata": {
            "tags": []
          },
          "execution_count": 5
        }
      ]
    },
    {
      "cell_type": "code",
      "metadata": {
        "colab": {
          "base_uri": "https://localhost:8080/"
        },
        "id": "ZLHlOa7hDxjL",
        "outputId": "9dd75938-0e29-4a11-e4f5-5436da19c765"
      },
      "source": [
        "dataset_train.shape"
      ],
      "execution_count": 6,
      "outputs": [
        {
          "output_type": "execute_result",
          "data": {
            "text/plain": [
              "(2035, 8)"
            ]
          },
          "metadata": {
            "tags": []
          },
          "execution_count": 6
        }
      ]
    },
    {
      "cell_type": "markdown",
      "metadata": {
        "id": "Op4IcqG2D4Of"
      },
      "source": [
        "2035 rows and 8 columns, data given for each (7) days. "
      ]
    },
    {
      "cell_type": "code",
      "metadata": {
        "colab": {
          "base_uri": "https://localhost:8080/",
          "height": 204
        },
        "id": "HAiDpDFoD9RK",
        "outputId": "1ef2594a-5659-4d4b-fcbb-72051d460d33"
      },
      "source": [
        "training_set=dataset_train.iloc[:,1:2] #we take only the first column which is open, and select all the rows\n",
        "training_set.head()"
      ],
      "execution_count": 7,
      "outputs": [
        {
          "output_type": "execute_result",
          "data": {
            "text/html": [
              "<div>\n",
              "<style scoped>\n",
              "    .dataframe tbody tr th:only-of-type {\n",
              "        vertical-align: middle;\n",
              "    }\n",
              "\n",
              "    .dataframe tbody tr th {\n",
              "        vertical-align: top;\n",
              "    }\n",
              "\n",
              "    .dataframe thead th {\n",
              "        text-align: right;\n",
              "    }\n",
              "</style>\n",
              "<table border=\"1\" class=\"dataframe\">\n",
              "  <thead>\n",
              "    <tr style=\"text-align: right;\">\n",
              "      <th></th>\n",
              "      <th>Open</th>\n",
              "    </tr>\n",
              "  </thead>\n",
              "  <tbody>\n",
              "    <tr>\n",
              "      <th>0</th>\n",
              "      <td>234.05</td>\n",
              "    </tr>\n",
              "    <tr>\n",
              "      <th>1</th>\n",
              "      <td>234.55</td>\n",
              "    </tr>\n",
              "    <tr>\n",
              "      <th>2</th>\n",
              "      <td>240.00</td>\n",
              "    </tr>\n",
              "    <tr>\n",
              "      <th>3</th>\n",
              "      <td>233.30</td>\n",
              "    </tr>\n",
              "    <tr>\n",
              "      <th>4</th>\n",
              "      <td>233.55</td>\n",
              "    </tr>\n",
              "  </tbody>\n",
              "</table>\n",
              "</div>"
            ],
            "text/plain": [
              "     Open\n",
              "0  234.05\n",
              "1  234.55\n",
              "2  240.00\n",
              "3  233.30\n",
              "4  233.55"
            ]
          },
          "metadata": {
            "tags": []
          },
          "execution_count": 7
        }
      ]
    },
    {
      "cell_type": "code",
      "metadata": {
        "colab": {
          "base_uri": "https://localhost:8080/"
        },
        "id": "6vcFd7trEixL",
        "outputId": "84afce59-af93-4f64-be95-433c418e753f"
      },
      "source": [
        "training_set.shape"
      ],
      "execution_count": 8,
      "outputs": [
        {
          "output_type": "execute_result",
          "data": {
            "text/plain": [
              "(2035, 1)"
            ]
          },
          "metadata": {
            "tags": []
          },
          "execution_count": 8
        }
      ]
    },
    {
      "cell_type": "markdown",
      "metadata": {
        "id": "JkzzJCk8EllT"
      },
      "source": [
        "Now we have taken all the rows and only one column from our input dataset"
      ]
    },
    {
      "cell_type": "markdown",
      "metadata": {
        "id": "Ot982HBeEqww"
      },
      "source": [
        "Converting training_set values into numpy array"
      ]
    },
    {
      "cell_type": "code",
      "metadata": {
        "id": "OSNFaqM0EqZC"
      },
      "source": [
        "training_set=training_set.values"
      ],
      "execution_count": 9,
      "outputs": []
    },
    {
      "cell_type": "markdown",
      "metadata": {
        "id": "mpVwdiCrE8dH"
      },
      "source": [
        "to get optimal results, we normalise all the values first"
      ]
    },
    {
      "cell_type": "markdown",
      "metadata": {
        "id": "6yR6CSEYFC1J"
      },
      "source": [
        "PREPROCESSING:"
      ]
    },
    {
      "cell_type": "code",
      "metadata": {
        "id": "sZ22AjRpE76A"
      },
      "source": [
        "from sklearn.preprocessing import MinMaxScaler #Transform features by scaling each feature in a range of 0 and 1\n",
        "scale=MinMaxScaler(feature_range=(0,1)) #we normalize the values, so that value is in range 0 to 1\n",
        "training_set_scaled= scale.fit_transform(training_set) #MinMax Regularization"
      ],
      "execution_count": 10,
      "outputs": []
    },
    {
      "cell_type": "code",
      "metadata": {
        "colab": {
          "base_uri": "https://localhost:8080/"
        },
        "id": "91Rn_Vs8GCZu",
        "outputId": "561e2b04-3b9d-4843-de4a-39da4e20108d"
      },
      "source": [
        "training_set_scaled.shape"
      ],
      "execution_count": 11,
      "outputs": [
        {
          "output_type": "execute_result",
          "data": {
            "text/plain": [
              "(2035, 1)"
            ]
          },
          "metadata": {
            "tags": []
          },
          "execution_count": 11
        }
      ]
    },
    {
      "cell_type": "markdown",
      "metadata": {
        "id": "lMOzSf14GIX-"
      },
      "source": [
        "The shape is still the same, column shows the stock price of 2035 rows of each day"
      ]
    },
    {
      "cell_type": "code",
      "metadata": {
        "colab": {
          "base_uri": "https://localhost:8080/"
        },
        "id": "S29X4G0KGFzC",
        "outputId": "30ce8f16-16da-4db5-d0fd-b7e643df0065"
      },
      "source": [
        "training_set_scaled[10] #opening value of the stock on the 11th day"
      ],
      "execution_count": 12,
      "outputs": [
        {
          "output_type": "execute_result",
          "data": {
            "text/plain": [
              "array([0.54845904])"
            ]
          },
          "metadata": {
            "tags": []
          },
          "execution_count": 12
        }
      ]
    },
    {
      "cell_type": "code",
      "metadata": {
        "id": "W3eN-5PiGjxH"
      },
      "source": [
        "#iniitialising matrix X-train and y_train\n",
        "X_train=[]\n",
        "y_train=[]\n",
        "for i in range(60,2035):\n",
        "  X_train.append(training_set_scaled[i-60:i,0]) # for i =60, rows from 0 to 59 will be appended as columns to X_train\n",
        "  y_train.append(training_set_scaled[i,0]) # for i=60, rows from 60 to 2034 will append in y_train\n",
        "X_train,y_train=np.array(X_train), np.array(y_train)"
      ],
      "execution_count": 13,
      "outputs": []
    },
    {
      "cell_type": "code",
      "metadata": {
        "colab": {
          "base_uri": "https://localhost:8080/"
        },
        "id": "zWBQCz2FJEOO",
        "outputId": "34e2f028-c82f-470d-b484-9fabc0af9539"
      },
      "source": [
        "X_train.shape #2035 -60 = 1975, i.e. first 60 rows are not appended in X_train but all other rows with 60 columns are appended"
      ],
      "execution_count": 14,
      "outputs": [
        {
          "output_type": "execute_result",
          "data": {
            "text/plain": [
              "(1975, 60)"
            ]
          },
          "metadata": {
            "tags": []
          },
          "execution_count": 14
        }
      ]
    },
    {
      "cell_type": "code",
      "metadata": {
        "colab": {
          "base_uri": "https://localhost:8080/"
        },
        "id": "9xKMxNwEJFxf",
        "outputId": "216a6889-2bc0-4e30-a919-6587e999d149"
      },
      "source": [
        "y_train.shape #no column suggests that it is a vector not a matrix"
      ],
      "execution_count": 15,
      "outputs": [
        {
          "output_type": "execute_result",
          "data": {
            "text/plain": [
              "(1975,)"
            ]
          },
          "metadata": {
            "tags": []
          },
          "execution_count": 15
        }
      ]
    },
    {
      "cell_type": "code",
      "metadata": {
        "id": "4yMsy0OEJ1D2"
      },
      "source": [
        "X_train = np.reshape(X_train,(X_train.shape[0], X_train.shape[1], 1)) #we reshape the X_train with one additional dimension"
      ],
      "execution_count": 16,
      "outputs": []
    },
    {
      "cell_type": "code",
      "metadata": {
        "colab": {
          "base_uri": "https://localhost:8080/"
        },
        "id": "jMpvy5NkJHkd",
        "outputId": "db01a9dd-2dd4-47d6-f9b3-ffdd80d8d2cd"
      },
      "source": [
        "X_train.shape # now we have one more dimension"
      ],
      "execution_count": 17,
      "outputs": [
        {
          "output_type": "execute_result",
          "data": {
            "text/plain": [
              "(1975, 60, 1)"
            ]
          },
          "metadata": {
            "tags": []
          },
          "execution_count": 17
        }
      ]
    },
    {
      "cell_type": "code",
      "metadata": {
        "id": "V93PB7GDK3uw"
      },
      "source": [
        "from keras.models import Sequential\n",
        "from keras.layers import Dense #fully connected layer to the neural network\n",
        "from keras.layers import LSTM #\n",
        "from keras.layers import Dropout #to avoid overfitting, we use the dropout layer in our neural networks"
      ],
      "execution_count": 18,
      "outputs": []
    },
    {
      "cell_type": "markdown",
      "metadata": {
        "id": "kIqgWAoEL6d-"
      },
      "source": [
        "BUILDING THE MODEL:"
      ]
    },
    {
      "cell_type": "code",
      "metadata": {
        "id": "jZ5zP6CHL5uf"
      },
      "source": [
        "model=Sequential() #adding layers to our neural network model one by one\n",
        "\n",
        "#First Hidden layer consists of 50 LSTM neurons\n",
        "#1 Layer:\n",
        "model.add(LSTM(units=50, return_sequences=True, input_shape=(X_train.shape[1],1))) #input layer will be LSTM which will use first column and the dimension of the training data\n",
        "model.add(Dropout(0.2))\n",
        "\n",
        "#2 Layer\n",
        "model.add(LSTM(units=50, return_sequences=True))\n",
        "model.add(Dropout(0.3))\n",
        "\n",
        "#3 Layer\n",
        "model.add(LSTM(units=50, return_sequences=True))\n",
        "model.add(Dropout(0.3))\n",
        "\n",
        "#4 Layer/ Output Layer\n",
        "model.add(LSTM(units=50))\n",
        "model.add(Dropout(0.2))\n",
        "\n",
        "model.add(Dense(units=1)) #output is 1, since we are trying to predict stock value of one day"
      ],
      "execution_count": 19,
      "outputs": []
    },
    {
      "cell_type": "markdown",
      "metadata": {
        "id": "i-qrwkIxOQ1R"
      },
      "source": [
        "COMPILING THE MODEL:"
      ]
    },
    {
      "cell_type": "code",
      "metadata": {
        "id": "1cRf8hzgOPLH"
      },
      "source": [
        "model.compile(optimizer='adam', loss=\"mean_squared_error\") #we use mean_squred_error to calculate the loss \n",
        "#adam optimizer will handle sparse gradient "
      ],
      "execution_count": 20,
      "outputs": []
    },
    {
      "cell_type": "markdown",
      "metadata": {
        "id": "P9Gr5694Oytj"
      },
      "source": [
        "FITTING THE MODEL:"
      ]
    },
    {
      "cell_type": "code",
      "metadata": {
        "colab": {
          "base_uri": "https://localhost:8080/"
        },
        "id": "CTCVFUzKO1a-",
        "outputId": "31ad81b3-d6fb-41c7-c116-edef19b8d896"
      },
      "source": [
        "model.fit(X_train, y_train, epochs=150, batch_size=32) # fitting the model, training it with 150 epochs"
      ],
      "execution_count": 21,
      "outputs": [
        {
          "output_type": "stream",
          "text": [
            "Epoch 1/150\n",
            "62/62 [==============================] - 13s 103ms/step - loss: 0.0286\n",
            "Epoch 2/150\n",
            "62/62 [==============================] - 6s 102ms/step - loss: 0.0031\n",
            "Epoch 3/150\n",
            "62/62 [==============================] - 6s 103ms/step - loss: 0.0031\n",
            "Epoch 4/150\n",
            "62/62 [==============================] - 6s 102ms/step - loss: 0.0027\n",
            "Epoch 5/150\n",
            "62/62 [==============================] - 7s 105ms/step - loss: 0.0029\n",
            "Epoch 6/150\n",
            "62/62 [==============================] - 7s 106ms/step - loss: 0.0024\n",
            "Epoch 7/150\n",
            "62/62 [==============================] - 6s 105ms/step - loss: 0.0021\n",
            "Epoch 8/150\n",
            "62/62 [==============================] - 7s 106ms/step - loss: 0.0021\n",
            "Epoch 9/150\n",
            "62/62 [==============================] - 7s 105ms/step - loss: 0.0019\n",
            "Epoch 10/150\n",
            "62/62 [==============================] - 7s 106ms/step - loss: 0.0025\n",
            "Epoch 11/150\n",
            "62/62 [==============================] - 7s 106ms/step - loss: 0.0022\n",
            "Epoch 12/150\n",
            "62/62 [==============================] - 7s 108ms/step - loss: 0.0017\n",
            "Epoch 13/150\n",
            "62/62 [==============================] - 7s 108ms/step - loss: 0.0020\n",
            "Epoch 14/150\n",
            "62/62 [==============================] - 7s 107ms/step - loss: 0.0021\n",
            "Epoch 15/150\n",
            "62/62 [==============================] - 7s 107ms/step - loss: 0.0015\n",
            "Epoch 16/150\n",
            "62/62 [==============================] - 7s 107ms/step - loss: 0.0015\n",
            "Epoch 17/150\n",
            "62/62 [==============================] - 7s 108ms/step - loss: 0.0016\n",
            "Epoch 18/150\n",
            "62/62 [==============================] - 7s 105ms/step - loss: 0.0017\n",
            "Epoch 19/150\n",
            "62/62 [==============================] - 7s 106ms/step - loss: 0.0016\n",
            "Epoch 20/150\n",
            "62/62 [==============================] - 7s 106ms/step - loss: 0.0016\n",
            "Epoch 21/150\n",
            "62/62 [==============================] - 7s 107ms/step - loss: 0.0015\n",
            "Epoch 22/150\n",
            "62/62 [==============================] - 7s 107ms/step - loss: 0.0015\n",
            "Epoch 23/150\n",
            "62/62 [==============================] - 7s 109ms/step - loss: 0.0016\n",
            "Epoch 24/150\n",
            "62/62 [==============================] - 7s 108ms/step - loss: 0.0015\n",
            "Epoch 25/150\n",
            "62/62 [==============================] - 7s 108ms/step - loss: 0.0014\n",
            "Epoch 26/150\n",
            "62/62 [==============================] - 7s 108ms/step - loss: 0.0014\n",
            "Epoch 27/150\n",
            "62/62 [==============================] - 7s 108ms/step - loss: 0.0016\n",
            "Epoch 28/150\n",
            "62/62 [==============================] - 7s 107ms/step - loss: 0.0019\n",
            "Epoch 29/150\n",
            "62/62 [==============================] - 7s 109ms/step - loss: 0.0017\n",
            "Epoch 30/150\n",
            "62/62 [==============================] - 7s 108ms/step - loss: 0.0012\n",
            "Epoch 31/150\n",
            "62/62 [==============================] - 7s 108ms/step - loss: 0.0013\n",
            "Epoch 32/150\n",
            "62/62 [==============================] - 7s 107ms/step - loss: 0.0013\n",
            "Epoch 33/150\n",
            "62/62 [==============================] - 7s 107ms/step - loss: 0.0012\n",
            "Epoch 34/150\n",
            "62/62 [==============================] - 7s 107ms/step - loss: 0.0010\n",
            "Epoch 35/150\n",
            "62/62 [==============================] - 7s 107ms/step - loss: 9.9740e-04\n",
            "Epoch 36/150\n",
            "62/62 [==============================] - 7s 106ms/step - loss: 0.0011\n",
            "Epoch 37/150\n",
            "62/62 [==============================] - 7s 106ms/step - loss: 0.0011\n",
            "Epoch 38/150\n",
            "62/62 [==============================] - 7s 107ms/step - loss: 0.0011\n",
            "Epoch 39/150\n",
            "62/62 [==============================] - 7s 107ms/step - loss: 0.0010\n",
            "Epoch 40/150\n",
            "62/62 [==============================] - 7s 109ms/step - loss: 0.0010\n",
            "Epoch 41/150\n",
            "62/62 [==============================] - 7s 114ms/step - loss: 9.9816e-04\n",
            "Epoch 42/150\n",
            "62/62 [==============================] - 8s 123ms/step - loss: 9.9368e-04\n",
            "Epoch 43/150\n",
            "62/62 [==============================] - 7s 107ms/step - loss: 9.8046e-04\n",
            "Epoch 44/150\n",
            "62/62 [==============================] - 7s 107ms/step - loss: 0.0011\n",
            "Epoch 45/150\n",
            "62/62 [==============================] - 7s 107ms/step - loss: 8.1730e-04\n",
            "Epoch 46/150\n",
            "62/62 [==============================] - 7s 106ms/step - loss: 0.0011\n",
            "Epoch 47/150\n",
            "62/62 [==============================] - 7s 107ms/step - loss: 0.0010\n",
            "Epoch 48/150\n",
            "62/62 [==============================] - 7s 107ms/step - loss: 0.0010\n",
            "Epoch 49/150\n",
            "62/62 [==============================] - 7s 108ms/step - loss: 7.8339e-04\n",
            "Epoch 50/150\n",
            "62/62 [==============================] - 7s 109ms/step - loss: 0.0011\n",
            "Epoch 51/150\n",
            "62/62 [==============================] - 7s 108ms/step - loss: 9.9118e-04\n",
            "Epoch 52/150\n",
            "62/62 [==============================] - 7s 106ms/step - loss: 8.5422e-04\n",
            "Epoch 53/150\n",
            "62/62 [==============================] - 7s 106ms/step - loss: 8.9537e-04\n",
            "Epoch 54/150\n",
            "62/62 [==============================] - 7s 107ms/step - loss: 7.7167e-04\n",
            "Epoch 55/150\n",
            "62/62 [==============================] - 7s 106ms/step - loss: 8.7156e-04\n",
            "Epoch 56/150\n",
            "62/62 [==============================] - 7s 106ms/step - loss: 9.5567e-04\n",
            "Epoch 57/150\n",
            "62/62 [==============================] - 7s 107ms/step - loss: 7.7805e-04\n",
            "Epoch 58/150\n",
            "62/62 [==============================] - 7s 106ms/step - loss: 8.8036e-04\n",
            "Epoch 59/150\n",
            "62/62 [==============================] - 7s 106ms/step - loss: 8.4485e-04\n",
            "Epoch 60/150\n",
            "62/62 [==============================] - 7s 108ms/step - loss: 9.2739e-04\n",
            "Epoch 61/150\n",
            "62/62 [==============================] - 7s 107ms/step - loss: 7.6772e-04\n",
            "Epoch 62/150\n",
            "62/62 [==============================] - 7s 108ms/step - loss: 7.9462e-04\n",
            "Epoch 63/150\n",
            "62/62 [==============================] - 7s 107ms/step - loss: 7.7790e-04\n",
            "Epoch 64/150\n",
            "62/62 [==============================] - 7s 106ms/step - loss: 0.0010\n",
            "Epoch 65/150\n",
            "62/62 [==============================] - 7s 108ms/step - loss: 7.7881e-04\n",
            "Epoch 66/150\n",
            "62/62 [==============================] - 7s 108ms/step - loss: 7.8288e-04\n",
            "Epoch 67/150\n",
            "62/62 [==============================] - 7s 106ms/step - loss: 9.3848e-04\n",
            "Epoch 68/150\n",
            "62/62 [==============================] - 7s 106ms/step - loss: 8.0238e-04\n",
            "Epoch 69/150\n",
            "62/62 [==============================] - 7s 106ms/step - loss: 8.1360e-04\n",
            "Epoch 70/150\n",
            "62/62 [==============================] - 7s 107ms/step - loss: 0.0010\n",
            "Epoch 71/150\n",
            "62/62 [==============================] - 7s 106ms/step - loss: 7.4430e-04\n",
            "Epoch 72/150\n",
            "62/62 [==============================] - 7s 105ms/step - loss: 7.6628e-04\n",
            "Epoch 73/150\n",
            "62/62 [==============================] - 7s 105ms/step - loss: 8.6437e-04\n",
            "Epoch 74/150\n",
            "62/62 [==============================] - 7s 107ms/step - loss: 7.6607e-04\n",
            "Epoch 75/150\n",
            "62/62 [==============================] - 7s 108ms/step - loss: 8.2354e-04\n",
            "Epoch 76/150\n",
            "62/62 [==============================] - 7s 106ms/step - loss: 7.0704e-04\n",
            "Epoch 77/150\n",
            "62/62 [==============================] - 7s 106ms/step - loss: 8.2456e-04\n",
            "Epoch 78/150\n",
            "62/62 [==============================] - 7s 108ms/step - loss: 6.5271e-04\n",
            "Epoch 79/150\n",
            "62/62 [==============================] - 7s 106ms/step - loss: 5.8699e-04\n",
            "Epoch 80/150\n",
            "62/62 [==============================] - 7s 107ms/step - loss: 7.7280e-04\n",
            "Epoch 81/150\n",
            "62/62 [==============================] - 7s 107ms/step - loss: 6.9240e-04\n",
            "Epoch 82/150\n",
            "62/62 [==============================] - 7s 107ms/step - loss: 6.0727e-04\n",
            "Epoch 83/150\n",
            "62/62 [==============================] - 7s 107ms/step - loss: 7.7091e-04\n",
            "Epoch 84/150\n",
            "62/62 [==============================] - 7s 107ms/step - loss: 9.3221e-04\n",
            "Epoch 85/150\n",
            "62/62 [==============================] - 7s 108ms/step - loss: 6.8761e-04\n",
            "Epoch 86/150\n",
            "62/62 [==============================] - 7s 107ms/step - loss: 7.0139e-04\n",
            "Epoch 87/150\n",
            "62/62 [==============================] - 7s 107ms/step - loss: 7.5117e-04\n",
            "Epoch 88/150\n",
            "62/62 [==============================] - 7s 107ms/step - loss: 7.3301e-04\n",
            "Epoch 89/150\n",
            "62/62 [==============================] - 7s 106ms/step - loss: 7.3193e-04\n",
            "Epoch 90/150\n",
            "62/62 [==============================] - 7s 106ms/step - loss: 7.4713e-04\n",
            "Epoch 91/150\n",
            "62/62 [==============================] - 7s 105ms/step - loss: 8.1118e-04\n",
            "Epoch 92/150\n",
            "62/62 [==============================] - 7s 108ms/step - loss: 6.3065e-04\n",
            "Epoch 93/150\n",
            "62/62 [==============================] - 7s 107ms/step - loss: 9.1737e-04\n",
            "Epoch 94/150\n",
            "62/62 [==============================] - 7s 108ms/step - loss: 7.6149e-04\n",
            "Epoch 95/150\n",
            "62/62 [==============================] - 7s 107ms/step - loss: 6.7583e-04\n",
            "Epoch 96/150\n",
            "62/62 [==============================] - 7s 108ms/step - loss: 7.0747e-04\n",
            "Epoch 97/150\n",
            "62/62 [==============================] - 7s 106ms/step - loss: 6.7283e-04\n",
            "Epoch 98/150\n",
            "62/62 [==============================] - 7s 108ms/step - loss: 7.8816e-04\n",
            "Epoch 99/150\n",
            "62/62 [==============================] - 7s 107ms/step - loss: 6.1270e-04\n",
            "Epoch 100/150\n",
            "62/62 [==============================] - 7s 107ms/step - loss: 7.1653e-04\n",
            "Epoch 101/150\n",
            "62/62 [==============================] - 7s 107ms/step - loss: 8.2203e-04\n",
            "Epoch 102/150\n",
            "62/62 [==============================] - 7s 106ms/step - loss: 5.8431e-04\n",
            "Epoch 103/150\n",
            "62/62 [==============================] - 7s 106ms/step - loss: 6.4470e-04\n",
            "Epoch 104/150\n",
            "62/62 [==============================] - 7s 107ms/step - loss: 7.2346e-04\n",
            "Epoch 105/150\n",
            "62/62 [==============================] - 7s 108ms/step - loss: 6.8499e-04\n",
            "Epoch 106/150\n",
            "62/62 [==============================] - 7s 107ms/step - loss: 6.3572e-04\n",
            "Epoch 107/150\n",
            "62/62 [==============================] - 7s 107ms/step - loss: 6.6830e-04\n",
            "Epoch 108/150\n",
            "62/62 [==============================] - 7s 108ms/step - loss: 6.6839e-04\n",
            "Epoch 109/150\n",
            "62/62 [==============================] - 7s 107ms/step - loss: 6.5072e-04\n",
            "Epoch 110/150\n",
            "62/62 [==============================] - 7s 108ms/step - loss: 6.7144e-04\n",
            "Epoch 111/150\n",
            "62/62 [==============================] - 7s 108ms/step - loss: 6.1604e-04\n",
            "Epoch 112/150\n",
            "62/62 [==============================] - 7s 108ms/step - loss: 6.0746e-04\n",
            "Epoch 113/150\n",
            "62/62 [==============================] - 7s 108ms/step - loss: 7.6479e-04\n",
            "Epoch 114/150\n",
            "62/62 [==============================] - 7s 107ms/step - loss: 6.6314e-04\n",
            "Epoch 115/150\n",
            "62/62 [==============================] - 7s 107ms/step - loss: 7.4306e-04\n",
            "Epoch 116/150\n",
            "62/62 [==============================] - 7s 107ms/step - loss: 5.7719e-04\n",
            "Epoch 117/150\n",
            "62/62 [==============================] - 7s 107ms/step - loss: 6.8334e-04\n",
            "Epoch 118/150\n",
            "62/62 [==============================] - 7s 107ms/step - loss: 5.7441e-04\n",
            "Epoch 119/150\n",
            "62/62 [==============================] - 7s 107ms/step - loss: 5.9341e-04\n",
            "Epoch 120/150\n",
            "62/62 [==============================] - 7s 107ms/step - loss: 6.7147e-04\n",
            "Epoch 121/150\n",
            "62/62 [==============================] - 7s 108ms/step - loss: 7.1403e-04\n",
            "Epoch 122/150\n",
            "62/62 [==============================] - 7s 108ms/step - loss: 7.5054e-04\n",
            "Epoch 123/150\n",
            "62/62 [==============================] - 7s 106ms/step - loss: 7.1714e-04\n",
            "Epoch 124/150\n",
            "62/62 [==============================] - 7s 108ms/step - loss: 6.0862e-04\n",
            "Epoch 125/150\n",
            "62/62 [==============================] - 7s 106ms/step - loss: 6.2236e-04\n",
            "Epoch 126/150\n",
            "62/62 [==============================] - 7s 107ms/step - loss: 7.8451e-04\n",
            "Epoch 127/150\n",
            "62/62 [==============================] - 7s 106ms/step - loss: 6.1008e-04\n",
            "Epoch 128/150\n",
            "62/62 [==============================] - 7s 106ms/step - loss: 5.2075e-04\n",
            "Epoch 129/150\n",
            "62/62 [==============================] - 7s 107ms/step - loss: 6.1249e-04\n",
            "Epoch 130/150\n",
            "62/62 [==============================] - 7s 109ms/step - loss: 5.1797e-04\n",
            "Epoch 131/150\n",
            "62/62 [==============================] - 7s 107ms/step - loss: 6.3500e-04\n",
            "Epoch 132/150\n",
            "62/62 [==============================] - 7s 106ms/step - loss: 6.5958e-04\n",
            "Epoch 133/150\n",
            "62/62 [==============================] - 7s 107ms/step - loss: 6.4578e-04\n",
            "Epoch 134/150\n",
            "62/62 [==============================] - 7s 107ms/step - loss: 5.8043e-04\n",
            "Epoch 135/150\n",
            "62/62 [==============================] - 7s 107ms/step - loss: 6.8500e-04\n",
            "Epoch 136/150\n",
            "62/62 [==============================] - 7s 106ms/step - loss: 6.6813e-04\n",
            "Epoch 137/150\n",
            "62/62 [==============================] - 7s 107ms/step - loss: 7.3075e-04\n",
            "Epoch 138/150\n",
            "62/62 [==============================] - 7s 107ms/step - loss: 5.7956e-04\n",
            "Epoch 139/150\n",
            "62/62 [==============================] - 7s 106ms/step - loss: 5.8980e-04\n",
            "Epoch 140/150\n",
            "62/62 [==============================] - 7s 108ms/step - loss: 5.5038e-04\n",
            "Epoch 141/150\n",
            "62/62 [==============================] - 7s 107ms/step - loss: 7.3794e-04\n",
            "Epoch 142/150\n",
            "62/62 [==============================] - 7s 107ms/step - loss: 5.2422e-04\n",
            "Epoch 143/150\n",
            "62/62 [==============================] - 7s 106ms/step - loss: 7.7568e-04\n",
            "Epoch 144/150\n",
            "62/62 [==============================] - 7s 107ms/step - loss: 6.2101e-04\n",
            "Epoch 145/150\n",
            "62/62 [==============================] - 7s 108ms/step - loss: 5.2212e-04\n",
            "Epoch 146/150\n",
            "62/62 [==============================] - 7s 108ms/step - loss: 6.4941e-04\n",
            "Epoch 147/150\n",
            "62/62 [==============================] - 7s 107ms/step - loss: 6.1679e-04\n",
            "Epoch 148/150\n",
            "62/62 [==============================] - 7s 107ms/step - loss: 5.7327e-04\n",
            "Epoch 149/150\n",
            "62/62 [==============================] - 7s 108ms/step - loss: 5.7250e-04\n",
            "Epoch 150/150\n",
            "62/62 [==============================] - 7s 108ms/step - loss: 6.3782e-04\n"
          ],
          "name": "stdout"
        },
        {
          "output_type": "execute_result",
          "data": {
            "text/plain": [
              "<tensorflow.python.keras.callbacks.History at 0x7f76d08d5810>"
            ]
          },
          "metadata": {
            "tags": []
          },
          "execution_count": 21
        }
      ]
    },
    {
      "cell_type": "code",
      "metadata": {
        "colab": {
          "base_uri": "https://localhost:8080/",
          "height": 204
        },
        "id": "foLbADj4PcmC",
        "outputId": "76073b60-4857-42a9-9935-06aa7707a2ab"
      },
      "source": [
        "dataset_test=pd.read_csv('tatatest.csv')\n",
        "dataset_test.head()"
      ],
      "execution_count": 22,
      "outputs": [
        {
          "output_type": "execute_result",
          "data": {
            "text/html": [
              "<div>\n",
              "<style scoped>\n",
              "    .dataframe tbody tr th:only-of-type {\n",
              "        vertical-align: middle;\n",
              "    }\n",
              "\n",
              "    .dataframe tbody tr th {\n",
              "        vertical-align: top;\n",
              "    }\n",
              "\n",
              "    .dataframe thead th {\n",
              "        text-align: right;\n",
              "    }\n",
              "</style>\n",
              "<table border=\"1\" class=\"dataframe\">\n",
              "  <thead>\n",
              "    <tr style=\"text-align: right;\">\n",
              "      <th></th>\n",
              "      <th>Date</th>\n",
              "      <th>Open</th>\n",
              "      <th>High</th>\n",
              "      <th>Low</th>\n",
              "      <th>Last</th>\n",
              "      <th>Close</th>\n",
              "      <th>Total Trade Quantity</th>\n",
              "      <th>Turnover (Lacs)</th>\n",
              "    </tr>\n",
              "  </thead>\n",
              "  <tbody>\n",
              "    <tr>\n",
              "      <th>0</th>\n",
              "      <td>2018-10-24</td>\n",
              "      <td>220.10</td>\n",
              "      <td>221.25</td>\n",
              "      <td>217.05</td>\n",
              "      <td>219.55</td>\n",
              "      <td>219.80</td>\n",
              "      <td>2171956</td>\n",
              "      <td>4771.34</td>\n",
              "    </tr>\n",
              "    <tr>\n",
              "      <th>1</th>\n",
              "      <td>2018-10-23</td>\n",
              "      <td>221.10</td>\n",
              "      <td>222.20</td>\n",
              "      <td>214.75</td>\n",
              "      <td>219.55</td>\n",
              "      <td>218.30</td>\n",
              "      <td>1416279</td>\n",
              "      <td>3092.15</td>\n",
              "    </tr>\n",
              "    <tr>\n",
              "      <th>2</th>\n",
              "      <td>2018-10-22</td>\n",
              "      <td>229.45</td>\n",
              "      <td>231.60</td>\n",
              "      <td>222.00</td>\n",
              "      <td>223.05</td>\n",
              "      <td>223.25</td>\n",
              "      <td>3529711</td>\n",
              "      <td>8028.37</td>\n",
              "    </tr>\n",
              "    <tr>\n",
              "      <th>3</th>\n",
              "      <td>2018-10-19</td>\n",
              "      <td>230.30</td>\n",
              "      <td>232.70</td>\n",
              "      <td>225.50</td>\n",
              "      <td>227.75</td>\n",
              "      <td>227.20</td>\n",
              "      <td>1527904</td>\n",
              "      <td>3490.78</td>\n",
              "    </tr>\n",
              "    <tr>\n",
              "      <th>4</th>\n",
              "      <td>2018-10-17</td>\n",
              "      <td>237.70</td>\n",
              "      <td>240.80</td>\n",
              "      <td>229.45</td>\n",
              "      <td>231.30</td>\n",
              "      <td>231.10</td>\n",
              "      <td>2945914</td>\n",
              "      <td>6961.65</td>\n",
              "    </tr>\n",
              "  </tbody>\n",
              "</table>\n",
              "</div>"
            ],
            "text/plain": [
              "         Date    Open    High  ...   Close  Total Trade Quantity  Turnover (Lacs)\n",
              "0  2018-10-24  220.10  221.25  ...  219.80               2171956          4771.34\n",
              "1  2018-10-23  221.10  222.20  ...  218.30               1416279          3092.15\n",
              "2  2018-10-22  229.45  231.60  ...  223.25               3529711          8028.37\n",
              "3  2018-10-19  230.30  232.70  ...  227.20               1527904          3490.78\n",
              "4  2018-10-17  237.70  240.80  ...  231.10               2945914          6961.65\n",
              "\n",
              "[5 rows x 8 columns]"
            ]
          },
          "metadata": {
            "tags": []
          },
          "execution_count": 22
        }
      ]
    },
    {
      "cell_type": "code",
      "metadata": {
        "colab": {
          "base_uri": "https://localhost:8080/"
        },
        "id": "mbka4uNNQBfo",
        "outputId": "73c3b3f7-9795-44f4-a490-fde4007619c7"
      },
      "source": [
        "dataset_test.shape #16 rows and 8 columns in test dataset"
      ],
      "execution_count": 23,
      "outputs": [
        {
          "output_type": "execute_result",
          "data": {
            "text/plain": [
              "(16, 8)"
            ]
          },
          "metadata": {
            "tags": []
          },
          "execution_count": 23
        }
      ]
    },
    {
      "cell_type": "code",
      "metadata": {
        "id": "7AuRnyi4QN1p"
      },
      "source": [
        "stock_price = dataset_test.iloc[:,1:2].values"
      ],
      "execution_count": 24,
      "outputs": []
    },
    {
      "cell_type": "code",
      "metadata": {
        "colab": {
          "base_uri": "https://localhost:8080/"
        },
        "id": "FJowKbPKQtX7",
        "outputId": "c393df1b-f6a8-4a42-e266-71673f01419a"
      },
      "source": [
        "stock_price.shape #we take all the rows and only 1 column"
      ],
      "execution_count": 25,
      "outputs": [
        {
          "output_type": "execute_result",
          "data": {
            "text/plain": [
              "(16, 1)"
            ]
          },
          "metadata": {
            "tags": []
          },
          "execution_count": 25
        }
      ]
    },
    {
      "cell_type": "code",
      "metadata": {
        "colab": {
          "base_uri": "https://localhost:8080/"
        },
        "id": "8DA2Z-RgQ1k2",
        "outputId": "3138f920-e0bc-418e-ebcf-0846411a4a71"
      },
      "source": [
        "test_total=pd.concat((dataset_train['Open'],dataset_test['Open']),axis=0) #2035 rows from training dataset, and 16 rows from testing dataset is concatenated\n",
        "test_total.shape #2035+16 = 2051 rows in total"
      ],
      "execution_count": 26,
      "outputs": [
        {
          "output_type": "execute_result",
          "data": {
            "text/plain": [
              "(2051,)"
            ]
          },
          "metadata": {
            "tags": []
          },
          "execution_count": 26
        }
      ]
    },
    {
      "cell_type": "code",
      "metadata": {
        "colab": {
          "base_uri": "https://localhost:8080/"
        },
        "id": "GE8QvHhMRlrW",
        "outputId": "741936a3-5088-438d-a41a-c88b2494678d"
      },
      "source": [
        "input_samples=test_total[len(dataset_train)-60:].values #last 60 values are taken now \n",
        "input_samples.shape #last 60 values are from training dataset, and 16 values from testing dataset"
      ],
      "execution_count": 27,
      "outputs": [
        {
          "output_type": "execute_result",
          "data": {
            "text/plain": [
              "(76,)"
            ]
          },
          "metadata": {
            "tags": []
          },
          "execution_count": 27
        }
      ]
    },
    {
      "cell_type": "markdown",
      "metadata": {
        "id": "3Cg6QVPXR9PX"
      },
      "source": [
        "60 + 16 = 76 rows in total"
      ]
    },
    {
      "cell_type": "code",
      "metadata": {
        "colab": {
          "base_uri": "https://localhost:8080/"
        },
        "id": "Fwa-sFBISAGU",
        "outputId": "2e8eabbf-1230-429a-a554-eb8167c60d8e"
      },
      "source": [
        "input_samples = input_samples.reshape(-1,1) #reshaping the input_samples\n",
        "input_samples.shape"
      ],
      "execution_count": 28,
      "outputs": [
        {
          "output_type": "execute_result",
          "data": {
            "text/plain": [
              "(76, 1)"
            ]
          },
          "metadata": {
            "tags": []
          },
          "execution_count": 28
        }
      ]
    },
    {
      "cell_type": "code",
      "metadata": {
        "id": "gmKf0mrcUMz-"
      },
      "source": [
        "input_samples=scale.transform(input_samples) "
      ],
      "execution_count": 29,
      "outputs": []
    },
    {
      "cell_type": "code",
      "metadata": {
        "id": "Nnpctg6EUjnu"
      },
      "source": [
        "X_test=[]\n",
        "for i in range(60,76):\n",
        "  X_test.append(input_samples[i-60:i,0]) #for i =60, 0 to 75 rows are appended in X_test\n",
        "X_test=np.array(X_test)\n",
        "X_test=np.reshape(X_test, (X_test.shape[0], X_test.shape[1],1))"
      ],
      "execution_count": 30,
      "outputs": []
    },
    {
      "cell_type": "code",
      "metadata": {
        "id": "ZD6tfomUVz8s"
      },
      "source": [
        "pred_stock_price=model.predict(X_test)\n",
        "pred_stock_price=scale.inverse_transform(pred_stock_price) #predicting the stock prices"
      ],
      "execution_count": 31,
      "outputs": []
    },
    {
      "cell_type": "code",
      "metadata": {
        "colab": {
          "base_uri": "https://localhost:8080/",
          "height": 312
        },
        "id": "NbG-njDhWbc1",
        "outputId": "ca9778c3-21a4-4889-8d7d-ad01354b104f"
      },
      "source": [
        "#setting green and red color respectively for predicted and test stock price\n",
        "plt.plot(dataset_test['Open'],color='red', label='test')\n",
        "plt.plot(pred_stock_price, color='green', label='predicted stock price') \n",
        "#setting labels for plotting graph\n",
        "plt.title('Stock price prediction')\n",
        "plt.xlabel('days')\n",
        "plt.ylabel('Stcok price')\n",
        "plt.legend()"
      ],
      "execution_count": 32,
      "outputs": [
        {
          "output_type": "execute_result",
          "data": {
            "text/plain": [
              "<matplotlib.legend.Legend at 0x7f76cc9abc10>"
            ]
          },
          "metadata": {
            "tags": []
          },
          "execution_count": 32
        },
        {
          "output_type": "display_data",
          "data": {
            "image/png": "[encoded data removed]",
            "text/plain": [
              "<Figure size 432x288 with 1 Axes>"
            ]
          },
          "metadata": {
            "tags": [],
            "needs_background": "light"
          }
        }
      ]
    },
    {
      "cell_type": "markdown",
      "metadata": {
        "id": "-7p5syhKXqba"
      },
      "source": [
        "CONCLUSION: \n",
        "\n",
        "1) The Graph shows that the foirst few days that the differnevce beetewwn the ios lagrge, this differnece reduce after the number of days are increased.  \n",
        "\n",
        "2) Differnece can be reuduced by increasing the number of epochs."
      ]
    }
  ]
}